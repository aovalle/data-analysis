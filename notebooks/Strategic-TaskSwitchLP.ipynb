{
 "cells": [
  {
   "cell_type": "markdown",
   "metadata": {},
   "source": [
    "# Switching tasks according to LP in Strategic Learning\n",
    "\n",
    "[Switching given LP per task](#A1)\n",
    "\n",
    "[Switching when LP=0](#A2)\n",
    "\n",
    "[LP where it is most likely for subjects to switch](#A3)\n",
    "\n",
    "## Set up and imports"
   ]
  },
  {
   "cell_type": "code",
   "execution_count": 1,
   "metadata": {},
   "outputs": [
    {
     "name": "stderr",
     "output_type": "stream",
     "text": [
      "/usr/lib/python3.6/site-packages/IPython/html.py:14: ShimWarning: The `IPython.html` package has been deprecated since IPython 4.0. You should import from `notebook` instead. `IPython.html.widgets` has moved to `ipywidgets`.\n",
      "  \"`IPython.html.widgets` has moved to `ipywidgets`.\", ShimWarning)\n"
     ]
    }
   ],
   "source": [
    "%matplotlib inline\n",
    "import numpy as np\n",
    "import matplotlib.pyplot as plt\n",
    "from matplotlib import rcParams\n",
    "import matplotlib.cm as cm\n",
    "import pandas as pd\n",
    "import warnings\n",
    "\n",
    "from ipywidgets import widgets\n",
    "from IPython.html.widgets import *\n",
    "\n",
    "warnings.filterwarnings('ignore')\n",
    "rcParams.update({'font.size': 15})\n",
    "#plt.style.use('ggplot')\n",
    "#plt.style.use('seaborn-dark-palette')\n",
    "plt.style.use('fivethirtyeight')\n",
    "\n",
    "import io\n",
    "from IPython.nbformat import current\n",
    "\n",
    "def execute_notebook(nbfile):\n",
    "    \n",
    "    with io.open(nbfile) as f:\n",
    "        nb = current.read(f, 'json')\n",
    "    \n",
    "    ip = get_ipython()\n",
    "    \n",
    "    for cell in nb.worksheets[0].cells:\n",
    "        if cell.cell_type != 'code':\n",
    "            continue\n",
    "        ip.run_cell(cell.input)"
   ]
  },
  {
   "cell_type": "code",
   "execution_count": 2,
   "metadata": {},
   "outputs": [
    {
     "name": "stdout",
     "output_type": "stream",
     "text": [
      "[b'free']\n"
     ]
    }
   ],
   "source": [
    "execute_notebook(\"file-preprocessing.ipynb\")"
   ]
  },
  {
   "cell_type": "code",
   "execution_count": 3,
   "metadata": {
    "collapsed": true
   },
   "outputs": [],
   "source": [
    "users = 201\n",
    "tasks = 4"
   ]
  },
  {
   "cell_type": "code",
   "execution_count": 4,
   "metadata": {},
   "outputs": [
    {
     "data": {
      "text/html": [
       "<style>\n",
       ".output_wrapper, .output {\n",
       "    height:auto !important;\n",
       "    max-height:5000px;  /* output max-height */\n",
       "}\n",
       ".output_scroll {\n",
       "    box-shadow:none !important;\n",
       "    webkit-box-shadow:none !important;\n",
       "}\n",
       "</style>"
      ],
      "text/plain": [
       "<IPython.core.display.HTML object>"
      ]
     },
     "metadata": {},
     "output_type": "display_data"
    }
   ],
   "source": [
    "%%html\n",
    "<style>\n",
    ".output_wrapper, .output {\n",
    "    height:auto !important;\n",
    "    max-height:5000px;  /* output max-height */\n",
    "}\n",
    ".output_scroll {\n",
    "    box-shadow:none !important;\n",
    "    webkit-box-shadow:none !important;\n",
    "}\n",
    "</style>"
   ]
  },
  {
   "cell_type": "code",
   "execution_count": 5,
   "metadata": {
    "collapsed": true,
    "scrolled": true
   },
   "outputs": [],
   "source": [
    "def plotError(window, lookback, plotAll=fixed(False), plotGraph=fixed(False)):\n",
    "    \n",
    "    # ===========================================================================================\n",
    "    # Error Part\n",
    "    if plotAll:\n",
    "        # Set up error subplots\n",
    "        fig = plt.figure(figsize=(15, 15))\n",
    "        ax, c = [], 0\n",
    "        for i in range(3):\n",
    "            for j in range(2):\n",
    "                ax.append(plt.subplot2grid((3, 2), (i, j)))\n",
    "                c+=1\n",
    "                if c == users:\n",
    "                    break\n",
    "        plt.subplots_adjust(wspace = 0.3, hspace = 0.3)\n",
    "\n",
    "    errors=[];\n",
    "    for u in range(users):\n",
    "        # With a list in case I want to store them like cumCounts, movAvg should be moved out of this loop though\n",
    "        # To be indexed by user too\n",
    "        movAvg=[];\n",
    "        # Plot error moving average per task for this user u only\n",
    "        for t in range(tasks):\n",
    "            # e = 1-accuracy (where accuracy)\n",
    "            movAvg.append(1-pd.rolling_mean(splitCsvSE[u][splitCsvSE[u][:,1]==t, 2], window)[window-1:]);\n",
    "            if plotAll:\n",
    "                ax[u].plot(movAvg[t], label=categories[t])\n",
    "        errors.append(movAvg);\n",
    "        if plotAll:\n",
    "            ax[u].legend()\n",
    "            ax[u].set_title(''.join(['Person ', str(u+1), ' | Error']))\n",
    "            ax[u].set_ylabel('Error')\n",
    "            ax[u].set_xlabel('Task (and window) dependent step ')\n",
    "    \n",
    "    if plotAll:\n",
    "        plt.tight_layout();\n",
    "        plt.show()\n",
    "    # Use a global vars so it can retrieve window size and error list to use it with error difference\n",
    "    global Window\n",
    "    Window = window\n",
    "    global Errors\n",
    "    Errors = errors\n",
    "    #return errors, window;\n",
    "    \n",
    "    # ===========================================================================================\n",
    "    # LP Part\n",
    "    def errorChange(arr, lookback=1, getInitDiff=True):\n",
    "        # Reverse it\n",
    "        arr = arr[::-1]\n",
    "        # LP = - [error(now) - error(past)]\n",
    "        # window: a look-back to consider the difference  diff[t] = a[t] - a[t-window]\n",
    "        lp = [-i+j for i, j in zip(arr[:-lookback], arr[lookback:])]\n",
    "        # if it's set to true then it will append the initial (noisy) differences that were left behind by the nature\n",
    "        # of having a rolling window. Thus it will calculate the differences (only one step) and append them\n",
    "        if getInitDiff:\n",
    "            lp += np.diff(arr[-lookback:]).tolist()\n",
    "        # Reverse it\n",
    "        lp = lp[::-1]\n",
    "        return lp\n",
    "\n",
    "    # Set up subplots for LP\n",
    "    if plotAll:\n",
    "        fig = plt.figure(figsize=(15, 15))\n",
    "        ax, c = [], 0\n",
    "        for i in range(3):\n",
    "            for j in range(2):\n",
    "                ax.append(plt.subplot2grid((3, 2), (i, j)))\n",
    "                c+=1\n",
    "                if c == users:\n",
    "                    break\n",
    "        plt.subplots_adjust(wspace = 0.3, hspace = 0.3)\n",
    "\n",
    "    # Store every task LP per user\n",
    "    lpU = []\n",
    "    for u in range(users):\n",
    "        # Stores LP per task for user u\n",
    "        lpT = []\n",
    "        for t in range(tasks):\n",
    "            lpT.append( errorChange(Errors[u][t], lookback, getInitDiff=False) )\n",
    "            if plotAll:\n",
    "                # If i make errorChange multidimensional\n",
    "                #ax[u].plot(lpT[u][t], label=categories[t])\n",
    "                ax[u].plot(lpT[t], label=categories[t])\n",
    "                # adjust so it start at 0 when getInitDiff=true\n",
    "                #ax[u].plot([x for x in range(lookback,lookback+len(lpT))], lpT)\n",
    "        # Store LP for all t for user u\n",
    "        lpU.append(lpT)\n",
    "        if plotAll:\n",
    "            ax[u].legend()\n",
    "            ax[u].set_title(''.join(['Person ', str(u+1), ' | Learning Progress']))\n",
    "            ax[u].set_ylabel('Error rate')\n",
    "            ax[u].set_xlabel('Task dependent step')\n",
    "\n",
    "            ax[u].axhline(y=0,xmin=0,xmax=10,c=\"black\",linewidth=0.5,zorder=0)\n",
    "    \n",
    "    if plotAll:\n",
    "        plt.tight_layout()\n",
    "        plt.show()\n",
    "    global LPU\n",
    "    LPU = lpU\n",
    "    \n",
    "    \n",
    "    # ===========================================================================================\n",
    "    # P(leave|LP) section\n",
    "    \n",
    "    # If detached then use global LPU\n",
    "    #lpU = LPU\n",
    "\n",
    "    categ = ['Category 1D', 'Category 2D', 'Category Ignore 1D', 'Category Random']\n",
    "    # Stores lp data per task\n",
    "    lpTasks = []\n",
    "    \n",
    "    for t in range(tasks):\n",
    "        # One per user\n",
    "        #color = ['r', 'b', 'k', 'g', 'y']\n",
    "        color = cm.viridis(np.linspace(0, 1, users))\n",
    "        \n",
    "        position = [0, 0.1, 0.2, 0.3, 0.4]\n",
    "        \n",
    "        if plotGraph:\n",
    "            fig, axes = plt.subplots(figsize=(15,10));\n",
    "            plt.subplots_adjust(wspace=0.5, hspace=0.3);\n",
    "\n",
    "        # Stores lp data per user\n",
    "        lpUsers = []\n",
    "        \n",
    "        for u in range(users):\n",
    "            # Now let's see if user continued with the previous task or switched\n",
    "\n",
    "            # Get unique LP values and counts\n",
    "            lp, counts = np.unique(lpU[u][t], return_counts=True)\n",
    "            lpCounts = np.asarray((lp, counts)).T\n",
    "\n",
    "            # Get the indices for task t\n",
    "            indT, = np.where(splitCsvSE[u][:,1] == t)\n",
    "\n",
    "            # Check if we even have LP measurements\n",
    "            if len(lpU[u][t]) > 0:\n",
    "                # Then get only those indices to which we have LP measurements\n",
    "                indTLP = indT[-len(lpU[u][t]):]\n",
    "\n",
    "                # Concatenate indices for this task with LP, LP and whether or not at this step user u \n",
    "                # continued with this same task\n",
    "                data = [[np.array(indTLP)], [np.array(lpU[u][t]).T], [np.in1d(indTLP+1, indTLP)*1]]\n",
    "                data = np.concatenate(data).T\n",
    "\n",
    "                # Discretize the space in 0.05 slices from -0.5 to 0.5\n",
    "                low, high, step = -0.5, 0.5, 0.05\n",
    "                # Create bins\n",
    "                bins = np.arange(low,high,step)\n",
    "                # Group data in their corresponding bin according to the LP\n",
    "                binplace = np.digitize(data[:,1], bins)\n",
    "\n",
    "                # Realign bins\n",
    "                bins = bins.tolist()\n",
    "                bins.insert(0, low-step)\n",
    "\n",
    "                # Now do some binning\n",
    "                stay = []\n",
    "                total = []\n",
    "                pLeave = []\n",
    "                for b in range(len(bins)):\n",
    "                    # Go through every bin and get the indices of those that are in the current bin\n",
    "                    newBins = np.where(binplace == b)\n",
    "                    # For every bin count the number of times user u continued in this task\n",
    "                    stay.append(np.sum(data[newBins,2]))\n",
    "                    total.append(np.size(newBins))\n",
    "                    # Get P(switch task|LP in this bin)\n",
    "                    pLeave.append(1-(stay[-1]/total[-1]))\n",
    "                    \n",
    "            else:\n",
    "                low, high, step = -0.5, 0.5, 0.05\n",
    "                pLeave = [0]*len(np.arange(low,high,step))\n",
    "\n",
    "            # Plot\n",
    "            freq = pd.Series.from_array(pLeave)\n",
    "            \n",
    "            if plotGraph:\n",
    "                # format x labels\n",
    "                x_labels = [\"%.2f\" % b for b in bins]\n",
    "                #ax = freq.plot(kind='bar', color=color[u], alpha=0.5, subplots=True, legend=True, \n",
    "                #               sharex=False, sharey=False, label=''.join(['Subject ', str(u+1)]), position=position[u]);\n",
    "                ax = freq.plot(kind='bar', color=color[u], alpha=0.5, subplots=True, legend=True, \n",
    "                               sharex=False, sharey=False, label=''.join(['Subject ', str(u+1)]));\n",
    "\n",
    "                axes.set_xlabel(\"LP\")\n",
    "                axes.set_ylabel(\"P(Switch task|LP)\")\n",
    "                axes.set_xticklabels(x_labels);\n",
    "                axes.set_title(''.join(['Task ', str(t+1), ' | ', categ[t]]));\n",
    "                axes.set_ylim([0,1])\n",
    "            \n",
    "            lpUsers.append(freq.fillna(0))\n",
    "            #lpUsers.append(freq)\n",
    "        \n",
    "        if plotGraph:\n",
    "            plt.tight_layout();\n",
    "            plt.show()\n",
    "        \n",
    "        lpTasks.append(lpUsers)\n",
    "    \n",
    "    return lpTasks\n",
    "\n",
    "    \n",
    " \n",
    "#errors, window = plotError()\n",
    "#interact(plotError, window=(1,20))"
   ]
  },
  {
   "cell_type": "code",
   "execution_count": 7,
   "metadata": {},
   "outputs": [],
   "source": [
    "# Global Variables (Error section)\n",
    "Window = 20\n",
    "Errors = []\n",
    "\n",
    "# Global variables (LP section)\n",
    "Lookback = 15\n",
    "LPU = []\n",
    "\n",
    "freq = plotError(10, 5, False, False)\n",
    "freq = np.asarray(freq)\n",
    "freq = np.nan_to_num(freq)\n",
    "df = pd.DataFrame(np.mean(freq[0,:]))\n",
    "\n",
    "# for Window in [10, 15, 20, 25, 30, 35, 40]:\n",
    "#     for Lookback in [2, 5, 10, 15, 20, 25, 30]:\n",
    "#         print('Window ', Window, ' Lookback LP ', Lookback)\n",
    "#         plotError(Window, Lookback, False)"
   ]
  },
  {
   "cell_type": "markdown",
   "metadata": {},
   "source": [
    "<a id='A1'></a>\n",
    "## Switching task given certain LP"
   ]
  },
  {
   "cell_type": "code",
   "execution_count": 153,
   "metadata": {},
   "outputs": [
    {
     "data": {
      "image/png": "[encoded data removed]",
      "text/plain": [
       "<matplotlib.figure.Figure at 0x7fd23db94668>"
      ]
     },
     "metadata": {},
     "output_type": "display_data"
    }
   ],
   "source": [
    "# Discretize the space in 0.05 slices from -0.5 to 0.5\n",
    "low, high, step = -0.5, 0.5, 0.05\n",
    "# Create bins\n",
    "bins = np.arange(low,high,step)\n",
    "\n",
    "# Realign bins\n",
    "bins = bins.tolist()\n",
    "bins.insert(0, low-step)\n",
    "\n",
    "# format x labels\n",
    "x_labels = [\"%.2f\" % b for b in bins]\n",
    "\n",
    "\n",
    "# Index for barchart\n",
    "ind = np.arange(len(bins))\n",
    "width = 0.35 \n",
    "\n",
    "fig, ax = plt.subplots()\n",
    "\n",
    "rects1 = ax.bar(ind, np.mean(freq[0,:]), width, color='r',)\n",
    "rects2 = ax.bar(ind + width, np.mean(freq[1,:]), width, color='y')\n",
    "rects3 = ax.bar(ind + width*2, np.mean(freq[2,:]), width, color='b')\n",
    "rects4 = ax.bar(ind + width*3, np.mean(freq[3,:]), width, color='k')\n",
    "\n",
    "ax.set_ylabel('P(Switch task|LP)')\n",
    "ax.set_xlabel('LP')\n",
    "ax.set_title('Probability of switching task given certain LP per task')\n",
    "ax.set_xticks(ind + width / 2)\n",
    "ax.set_xticklabels(x_labels, rotation='vertical')\n",
    "\n",
    "ax.legend((rects1[0], rects2[0], rects3[0], rects4[0]), ('1D', 'I1D', '2D', 'R'))\n",
    "\n",
    "# Store p(switch task|LP=0, task)\n",
    "onLP0 = []\n",
    "# Store for which LP the p(switch task|Lp) was the largest\n",
    "maxLP = []\n",
    "for t in range(4):\n",
    "    avg = np.nan_to_num(np.mean(freq[t,:]))\n",
    "    onLP0.append(avg[11])\n",
    "    amax = np.argmax(avg)\n",
    "    maxLP.append(bins[amax])"
   ]
  },
  {
   "cell_type": "code",
   "execution_count": 140,
   "metadata": {
    "collapsed": true
   },
   "outputs": [],
   "source": [
    "def plotAgainstTask(arr, title):\n",
    "    catLab = ['1D', 'I1D', '2D', 'R']\n",
    "    colors = [\"r\", \"y\", \"b\", \"k\"]\n",
    "    fig, ax = plt.subplots(figsize=(5, 5))\n",
    "\n",
    "    # Control tick frequency\n",
    "    plt.xticks(np.arange(0, tasks+1, 1.0))\n",
    "    # Rename ticks\n",
    "    ax.set_xticklabels(catLab)\n",
    "    plt.scatter(np.arange(4), arr, c=colors, s=80, alpha=0.5)\n",
    "    plt.ylabel(title)\n",
    "    plt.xlabel('Tasks')\n",
    "    plt.show()"
   ]
  },
  {
   "cell_type": "markdown",
   "metadata": {},
   "source": [
    "<a id='A2'></a>\n",
    "## Probability a subject will switch to another task if LP=0\n",
    "\n",
    "This is calculated on average across subjects."
   ]
  },
  {
   "cell_type": "code",
   "execution_count": 150,
   "metadata": {},
   "outputs": [
    {
     "data": {
      "image/png": "[encoded data removed]",
      "text/plain": [
       "<matplotlib.figure.Figure at 0x7fd23d5131d0>"
      ]
     },
     "metadata": {},
     "output_type": "display_data"
    }
   ],
   "source": [
    "ytitles = ['p(switch task|LP=0, task)', 'LP (when max p(switch task|LP))']\n",
    "plotAgainstTask(np.asarray(onLP0), ytitles[0])"
   ]
  },
  {
   "cell_type": "markdown",
   "metadata": {},
   "source": [
    "<a id='A3'></a>\n",
    "## Under what circumstances (LP) a subject is more likely to switch to another task?\n",
    "\n",
    "Discretzing the space and on average, for task 1D subjects will switch the most when close to LP=0. For I1D subjects will switch while they still learned LP=0.10. The opposite happens with 2D and R tasks (LP=-0.20)."
   ]
  },
  {
   "cell_type": "code",
   "execution_count": 151,
   "metadata": {},
   "outputs": [
    {
     "data": {
      "image/png": "[encoded data removed]",
      "text/plain": [
       "<matplotlib.figure.Figure at 0x7fd23e69bc50>"
      ]
     },
     "metadata": {},
     "output_type": "display_data"
    }
   ],
   "source": [
    "plotAgainstTask(np.asarray(maxLP), ytitles[1])"
   ]
  },
  {
   "cell_type": "code",
   "execution_count": null,
   "metadata": {
    "collapsed": true
   },
   "outputs": [],
   "source": []
  }
 ],
 "metadata": {
  "kernelspec": {
   "display_name": "Python 3",
   "language": "python",
   "name": "python3"
  },
  "language_info": {
   "codemirror_mode": {
    "name": "ipython",
    "version": 3
   },
   "file_extension": ".py",
   "mimetype": "text/x-python",
   "name": "python",
   "nbconvert_exporter": "python",
   "pygments_lexer": "ipython3",
   "version": "3.6.1"
  },
  "widgets": {
   "application/vnd.jupyter.widget-state+json": {
    "state": {
     "07de5ad6633f4ef78270038bae4c1c0b": {
      "model_module": "jupyter-js-widgets",
      "model_module_version": "~2.1.4",
      "model_name": "SliderStyleModel",
      "state": {
       "_model_module_version": "~2.1.4",
       "_view_module_version": "~2.1.4"
      }
     },
     "3df42dd3c14a42e996398a4030d2bf97": {
      "model_module": "jupyter-js-widgets",
      "model_module_version": "~2.1.4",
      "model_name": "OutputModel",
      "state": {
       "_dom_classes": [],
       "_model_module": "jupyter-js-widgets",
       "_model_module_version": "~2.1.4",
       "_view_module": "jupyter-js-widgets",
       "_view_module_version": "~2.1.4",
       "layout": "IPY_MODEL_f07ed7f92bdb4ad7b12fb6ae9128b4d7",
       "msg_throttle": 1
      }
     },
     "5014e808670c4ebc9a2e3c1cf1cb356d": {
      "model_module": "jupyter-js-widgets",
      "model_module_version": "~2.1.4",
      "model_name": "IntSliderModel",
      "state": {
       "_model_module_version": "~2.1.4",
       "_view_module_version": "~2.1.4",
       "description": "lookback",
       "layout": "IPY_MODEL_7b88f3c1facb4c428c02c1dc13cfdc20",
       "min": 1,
       "style": "IPY_MODEL_5cc0a9e9db7345aab2bedf2e89ec9973",
       "value": 15
      }
     },
     "5cc0a9e9db7345aab2bedf2e89ec9973": {
      "model_module": "jupyter-js-widgets",
      "model_module_version": "~2.1.4",
      "model_name": "SliderStyleModel",
      "state": {
       "_model_module_version": "~2.1.4",
       "_view_module_version": "~2.1.4"
      }
     },
     "7b88f3c1facb4c428c02c1dc13cfdc20": {
      "model_module": "jupyter-js-widgets",
      "model_module_version": "~2.1.4",
      "model_name": "LayoutModel",
      "state": {
       "_model_module_version": "~2.1.4",
       "_view_module_version": "~2.1.4"
      }
     },
     "93b524fab7fc472bb0f536700f56bcc7": {
      "model_module": "jupyter-js-widgets",
      "model_module_version": "~2.1.4",
      "model_name": "IntSliderModel",
      "state": {
       "_model_module_version": "~2.1.4",
       "_view_module_version": "~2.1.4",
       "description": "window",
       "layout": "IPY_MODEL_af96a133a6b8408f801f7d312eca85fe",
       "min": 1,
       "style": "IPY_MODEL_07de5ad6633f4ef78270038bae4c1c0b",
       "value": 20
      }
     },
     "af96a133a6b8408f801f7d312eca85fe": {
      "model_module": "jupyter-js-widgets",
      "model_module_version": "~2.1.4",
      "model_name": "LayoutModel",
      "state": {
       "_model_module_version": "~2.1.4",
       "_view_module_version": "~2.1.4"
      }
     },
     "ecd11e3f339c49c6820beb0fd53f1a5a": {
      "model_module": "jupyter-js-widgets",
      "model_module_version": "~2.1.4",
      "model_name": "LayoutModel",
      "state": {
       "_model_module_version": "~2.1.4",
       "_view_module_version": "~2.1.4"
      }
     },
     "efbc59764fbe4d70ab3d8613260eccca": {
      "model_module": "jupyter-js-widgets",
      "model_module_version": "~2.1.4",
      "model_name": "VBoxModel",
      "state": {
       "_dom_classes": [
        "widget-interact"
       ],
       "_model_module_version": "~2.1.4",
       "_view_module_version": "~2.1.4",
       "children": [
        "IPY_MODEL_93b524fab7fc472bb0f536700f56bcc7",
        "IPY_MODEL_5014e808670c4ebc9a2e3c1cf1cb356d",
        "IPY_MODEL_3df42dd3c14a42e996398a4030d2bf97"
       ],
       "layout": "IPY_MODEL_ecd11e3f339c49c6820beb0fd53f1a5a"
      }
     },
     "f07ed7f92bdb4ad7b12fb6ae9128b4d7": {
      "model_module": "jupyter-js-widgets",
      "model_module_version": "~2.1.4",
      "model_name": "LayoutModel",
      "state": {
       "_model_module_version": "~2.1.4",
       "_view_module_version": "~2.1.4"
      }
     }
    },
    "version_major": 1,
    "version_minor": 0
   }
  }
 },
 "nbformat": 4,
 "nbformat_minor": 2
}
