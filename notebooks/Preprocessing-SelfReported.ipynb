{
 "cells": [
  {
   "cell_type": "markdown",
   "metadata": {},
   "source": [
    "# Preprocessing of self reported answers and performance\n",
    "\n",
    "This file creates a numpy array that associates the self reported answers to its corresponding task. This association is done per subject. Therefore for every subject there are four rows that describe these tasks and answers in numerical form.\n",
    "\n",
    "Each in row in addition to include the self reported answers, it also has the performance obtained by that subject on an specific task and the number of times it was selected. For consistency, the latter is included whether it is relevant or not (e.g. during training or testing the number of times a task is selected is the same for all of them).\n",
    "\n",
    "In order to obtain those metrics, six columns are extracted from the trial by trial file:\n",
    "\n",
    "- id\n",
    "- whether the subject has been informed about a random task or not\n",
    "- task family\n",
    "- task category\n",
    "- answer"
   ]
  },
  {
   "cell_type": "code",
   "execution_count": null,
   "metadata": {
    "collapsed": true
   },
   "outputs": [],
   "source": [
    "%matplotlib inline\n",
    "import numpy as np\n",
    "import matplotlib.pyplot as plt\n",
    "from matplotlib import rcParams\n",
    "import pandas as pd\n",
    "import warnings\n",
    "\n",
    "from ipywidgets import widgets\n",
    "from IPython.html.widgets import *\n",
    "\n",
    "warnings.filterwarnings('ignore')\n",
    "rcParams.update({'font.size': 15})\n",
    "#plt.style.use('ggplot')\n",
    "#plt.style.use('seaborn-dark-palette')\n",
    "plt.style.use('fivethirtyeight')"
   ]
  },
  {
   "cell_type": "code",
   "execution_count": null,
   "metadata": {
    "collapsed": true
   },
   "outputs": [],
   "source": [
    "TASKS = 4\n",
    "USERS = 201\n",
    "PHASE = 'exploration'\n",
    "#[b'free', b'test', b'train']\n",
    "dphase = {'exploration':0, 'test':1, 'train':2}\n",
    "# Indicate for which modality you want to generate the files\n",
    "TYPE = 's' #s=strategic, ft=free exploration and training, f = free exploration\n",
    "\n",
    "if TYPE == 's':\n",
    "    csvFile = '../data/monsters_data_strategic_052217.csv'\n",
    "elif TYPE == 'ft':\n",
    "    csvFile = '../data/monsters_data_free_familiarize_05232017.csv'\n",
    "elif TYPE == 'f':\n",
    "    csvFile = '../data/monsters_data_free_only_052417.csv'"
   ]
  },
  {
   "cell_type": "markdown",
   "metadata": {},
   "source": [
    "## Preprocess trial instances"
   ]
  },
  {
   "cell_type": "code",
   "execution_count": null,
   "metadata": {
    "collapsed": true
   },
   "outputs": [],
   "source": [
    "def stringToInt(arr, position, values):\n",
    "    for i, v in enumerate(values):\n",
    "        arr[arr[:,position] == v, position] = i\n",
    "    return arr\n",
    "\n",
    "# get id(0), condition(1), phase(2), family(7), category(8), correct(11)\n",
    "csv = np.genfromtxt(csvFile, dtype=np.string_, delimiter=',', usecols=(0,1,2,7,8,11), skip_header=1)\n",
    "\n",
    "# Get monster type\n",
    "monsters = [m for m in np.unique(csv[:,3])]\n",
    "# Get category\n",
    "categories = [b'category1D', b'categoryIgnore1D', b'category2D', b'categoryRandom']\n",
    "# Get ids\n",
    "ids = [i for i in np.unique(csv[:,0]) ]\n",
    "# Get condition\n",
    "cond = [co for co in np.unique(csv[:,1]) ]\n",
    "# Get unique phases\n",
    "phases = [p for p in np.unique(csv[:,2]) ]\n",
    "# For converting string to int boolean\n",
    "bo = [b'False', b'True']\n",
    "\n",
    "csvInt = csv.copy()\n",
    "# Convert fields to ints for easy processing\n",
    "for i,j in enumerate([ids, cond, phases, monsters, categories, bo]):\n",
    "    csvInt = stringToInt(csvInt, i, j)\n",
    "csvInt = csvInt.astype('int')\n",
    "\n",
    "if PHASE == 'exploration': \n",
    "    # Get only those in free exploration phase\n",
    "    csvInt = csvInt[csvInt[:, 2] == dphase[PHASE]]\n",
    "    \n",
    "    if TYPE == 's':\n",
    "        # For now also remove condition\n",
    "        csvInt = np.delete(csvInt, (1,2), axis=1)\n",
    "    else:\n",
    "        # Remove the phase column\n",
    "        csvInt = np.delete(csvInt, 2, axis=1)\n",
    "\n",
    "# Split by user\n",
    "splitCsv = [csvInt[csvInt[:,0]==i] for i in np.unique(csvInt[:,0])]\n",
    "\n",
    "\n",
    "# Count times correct per task, times task chosen, % for both\n",
    "metricsUser = []\n",
    "\n",
    "if PHASE == 'exploration':\n",
    "    cuser = 0\n",
    "    # id, monster, category, success\n",
    "    for user in range(np.shape(splitCsv)[0]):\n",
    "        questions = splitCsv[user]\n",
    "        \n",
    "        if type != 'S':\n",
    "            condition = questions[0,1]\n",
    "            # Count number of times a task was selected\n",
    "            task, ctask = np.unique(questions[:,3], return_counts=True)\n",
    "        else:\n",
    "            task, ctask = np.unique(questions[:,2], return_counts=True)\n",
    "\n",
    "        metricsTask = []\n",
    "        # Count number of times the answer was correct per task and percent\n",
    "        for t in range(TASKS):\n",
    "            if TYPE != S:\n",
    "                correct = np.sum(questions[questions[:,3] == t,4] == 1) \n",
    "                total = np.sum(questions[:,3] == t)\n",
    "                if t in task:\n",
    "                    # Task category, times task selected, % selection, #times correct on this task, % correct\n",
    "                    metricsTask.append([user, condition, t, ctask[np.where(task==t)][0], ctask[np.where(task==t)][0]/np.shape(questions)[0], correct, np.nan_to_num(correct/total)])\n",
    "                else:\n",
    "                    metricsTask.append([user, condition, t, 0., 0., correct, np.nan_to_num(correct/total)])\n",
    "            else:\n",
    "                correct = np.sum(questions[questions[:,2] == t,3] == 1) \n",
    "                total = np.sum(questions[:,2] == t)\n",
    "                if t in task:\n",
    "                    # Task category, times task selected, % selection, #times correct on this task, % correct\n",
    "                    metricsTask.append([user, t, ctask[np.where(task==t)][0], ctask[np.where(task==t)][0]/np.shape(questions)[0], correct, np.nan_to_num(correct/total)])\n",
    "                else:\n",
    "                    metricsTask.append([user, t, 0., 0., correct, np.nan_to_num(correct/total)])\n",
    "\n",
    "        metricsUser.append(metricsTask)"
   ]
  },
  {
   "cell_type": "markdown",
   "metadata": {},
   "source": [
    "## Preprocess self reported data"
   ]
  },
  {
   "cell_type": "code",
   "execution_count": null,
   "metadata": {
    "collapsed": true
   },
   "outputs": [],
   "source": [
    "# Subjective data\n",
    "if TYPE == 's':\n",
    "    csvFile = '../data/monsters_extra_data_strategic_052217.csv'\n",
    "elif TYPE == 'ft'\"\n",
    "    csvFile = '../data/monsters_extra_data_free_familiarize_05232017.csv'\n",
    "else:\n",
    "    csvFile = '../data/monsters_extra_data_free_only_05242017.csv'\n",
    "\n",
    "scsv = np.genfromtxt(csvFile, dtype=np.string_, delimiter=',', skip_header=1, usecols=range(30))\n",
    "\n",
    "if TYPE == 's':\n",
    "    # NOTE For now remove column future-learn-1-Bear (8), no data there\n",
    "    # So remove also 15, 22 and 29\n",
    "    scsv = np.delete(scsv, (8,15,22,29), axis=1)\n",
    "elif TYPE == 'f':\n",
    "    scsv = np.delete(scsv, (7,14,21,28), axis=1)\n",
    "\n",
    "\n",
    "# For those people that did not explore all tasks we still have to find a way to know what monster corresponds\n",
    "# to what category so get that information from training/testing phase\n",
    "csvInt2 = csv.copy()\n",
    "# Convert fields to ints for easy processing\n",
    "for i,j in enumerate([ids, cond, phases, monsters, categories, bo]):\n",
    "    csvInt2 = stringToInt(csvInt2, i, j)\n",
    "csvInt2 = csvInt2.astype('int')\n",
    "\n",
    "# Get only those in free exploration phase\n",
    "csvInt2 = csvInt2[csvInt2[:, 2]==train]\n",
    "\n",
    "# For now also remove condition\n",
    "csvInt2 = np.delete(csvInt2, (1,2), axis=1)\n",
    "# Split by user\n",
    "splitCsv = [csvInt2[csvInt2[:,0]==i] for i in np.unique(csvInt2[:,0])]\n",
    "\n",
    "# each row consists of uid, monster, category, answers for that category\n",
    "postCsv = []\n",
    "for user in range(np.shape(splitCsv)[0]):\n",
    "    # id(0), family(1), category(2), correct(3)\n",
    "    # Get monster family and task category\n",
    "    questions = splitCsv[user][:,1:3]\n",
    "    postQ = scsv[user]\n",
    "    _, mIdx = np.unique(questions[:,0], return_index=True)\n",
    "    _, cIdx = np.unique(questions[:,0], return_index=True)\n",
    "    # stack monster type, complexity type\n",
    "    moncat = np.vstack((questions[np.sort(mIdx),0], questions[np.sort(cIdx),1])).T\n",
    "    moncat = moncat[moncat[:,0].argsort()]\n",
    "    for n, mon in enumerate(moncat[:,0]):\n",
    "        if TYPE == 'ft':\n",
    "            #Use this when ALL answer columns are used\n",
    "            answ = postQ[n*7+2:7*(n+1)+2]\n",
    "        else:\n",
    "            answ = postQ[n*6+2:6*(n+1)+2]\n",
    "        # stack user id, monster id, category id, answers for that category\n",
    "        postCsv.append(np.hstack((user, mon, moncat[n,1], answ.tolist())).tolist())"
   ]
  },
  {
   "cell_type": "code",
   "execution_count": null,
   "metadata": {
    "collapsed": true
   },
   "outputs": [],
   "source": [
    "postCsv = np.asarray(postCsv)\n",
    "float_formatter = lambda x: \"%.2f\" % x\n",
    "np.set_printoptions(formatter={'float_kind':float_formatter})\n",
    "np.set_printoptions(precision=2)\n",
    "\n",
    "metricsUser = np.asarray(metricsUser, dtype='float')\n",
    "NUSERS = np.shape(metricsUser)[0]\n",
    "postCsv = postCsv.astype('float')\n",
    "\n",
    "# Order by first column (id) and then by third column (category task complexity)\n",
    "postCsv = postCsv[np.lexsort((postCsv[:,2], postCsv[:,0]))]\n",
    "\n",
    "# user, condition, category task (complexity), #times task selected, % selection, #times correct on this task, % correct\n",
    "#print(metricsUser)\n",
    "metricsUser = metricsUser.reshape(NUSERS*TASKS,7)\n",
    "\n",
    "# Check that columns (user and task category complexity) are the same in order to fusion them\n",
    "if np.array_equal(metricsUser[:,0], postCsv[:,0]) and np.array_equal(metricsUser[:,2], postCsv[:,2]):\n",
    "    finalStats = np.hstack((metricsUser, postCsv[:,3:]))\n",
    "else:\n",
    "    print('ERROR: columns do not match, someone did not select all tasks')"
   ]
  },
  {
   "cell_type": "markdown",
   "metadata": {},
   "source": [
    "## Saving numpy arrays"
   ]
  },
  {
   "cell_type": "code",
   "execution_count": null,
   "metadata": {
    "collapsed": true
   },
   "outputs": [],
   "source": [
    "if TYPE == 's':\n",
    "    if PHASE == 'train': \n",
    "        np.savetxt('strategic-train.txt', finalStats)\n",
    "    elif PHASE == 'test':\n",
    "        np.savetxt('strategic-test.txt', finalStats)\n",
    "    else:\n",
    "        np.savetxt('strategic-free.txt', metricsUser)\n",
    "elif TYPE == 'ft':\n",
    "    if PHASE == 'train':\n",
    "        np.savetxt('freeTrain-train.txt', finalStats)\n",
    "    elif PHASE == 'exploration':\n",
    "        np.savetxt('freeTrain-free.txt', metricsUser)\n",
    "elif TYPE == 'f':\n",
    "    if PHASE == 'train':\n",
    "        np.savetxt('strategic-train.txt', finalStats)\n",
    "    elif PHASE == 'test':\n",
    "        np.savetxt('strategic-test.txt', finalStats)\n",
    "    else:\n",
    "        #np.savetxt('free-free.txt', metricsUser)\n",
    "        np.savetxt('free-free.txt', finalStats)"
   ]
  }
 ],
 "metadata": {
  "kernelspec": {
   "display_name": "Python 3",
   "language": "python",
   "name": "python3"
  },
  "language_info": {
   "codemirror_mode": {
    "name": "ipython",
    "version": 3
   },
   "file_extension": ".py",
   "mimetype": "text/x-python",
   "name": "python",
   "nbconvert_exporter": "python",
   "pygments_lexer": "ipython3",
   "version": "3.6.1"
  }
 },
 "nbformat": 4,
 "nbformat_minor": 2
}
