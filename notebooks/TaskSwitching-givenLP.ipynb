{
 "cells": [
  {
   "cell_type": "markdown",
   "metadata": {},
   "source": [
    "# Probability of switching given learning progress\n",
    "\n",
    "Interactive plots that show given certain values of learning progress what is the probability of switching to another task. Similarly to previous files where accuracy and lp are obtained, the window and the lookback are free parameters to be explored."
   ]
  },
  {
   "cell_type": "code",
   "execution_count": 1,
   "metadata": {},
   "outputs": [
    {
     "name": "stderr",
     "output_type": "stream",
     "text": [
      "/usr/lib/python3.6/site-packages/IPython/html.py:14: ShimWarning: The `IPython.html` package has been deprecated since IPython 4.0. You should import from `notebook` instead. `IPython.html.widgets` has moved to `ipywidgets`.\n",
      "  \"`IPython.html.widgets` has moved to `ipywidgets`.\", ShimWarning)\n"
     ]
    }
   ],
   "source": [
    "%matplotlib inline\n",
    "import numpy as np\n",
    "import matplotlib.pyplot as plt\n",
    "from matplotlib import rcParams\n",
    "import pandas as pd\n",
    "import warnings\n",
    "\n",
    "from ipywidgets import widgets\n",
    "from IPython.html.widgets import *\n",
    "\n",
    "warnings.filterwarnings('ignore')\n",
    "rcParams.update({'font.size': 15})\n",
    "#plt.style.use('ggplot')\n",
    "#plt.style.use('seaborn-dark-palette')\n",
    "plt.style.use('fivethirtyeight')"
   ]
  },
  {
   "cell_type": "code",
   "execution_count": 2,
   "metadata": {},
   "outputs": [
    {
     "ename": "OSError",
     "evalue": "../data/monsters_data_pilot_041417.csv not found.",
     "output_type": "error",
     "traceback": [
      "\u001b[0;31m---------------------------------------------------------------------------\u001b[0m",
      "\u001b[0;31mOSError\u001b[0m                                   Traceback (most recent call last)",
      "\u001b[0;32m<ipython-input-2-3a6bb3578e2c>\u001b[0m in \u001b[0;36m<module>\u001b[0;34m()\u001b[0m\n\u001b[1;32m      7\u001b[0m \u001b[0;34m\u001b[0m\u001b[0m\n\u001b[1;32m      8\u001b[0m \u001b[0;31m# Only id(0), category(6), correct(9)\u001b[0m\u001b[0;34m\u001b[0m\u001b[0;34m\u001b[0m\u001b[0m\n\u001b[0;32m----> 9\u001b[0;31m \u001b[0mcsv\u001b[0m \u001b[0;34m=\u001b[0m \u001b[0mnp\u001b[0m\u001b[0;34m.\u001b[0m\u001b[0mgenfromtxt\u001b[0m\u001b[0;34m(\u001b[0m\u001b[0mcsvFile\u001b[0m\u001b[0;34m,\u001b[0m \u001b[0mdtype\u001b[0m\u001b[0;34m=\u001b[0m\u001b[0mnp\u001b[0m\u001b[0;34m.\u001b[0m\u001b[0mstring_\u001b[0m\u001b[0;34m,\u001b[0m \u001b[0mdelimiter\u001b[0m\u001b[0;34m=\u001b[0m\u001b[0;34m','\u001b[0m\u001b[0;34m,\u001b[0m \u001b[0musecols\u001b[0m\u001b[0;34m=\u001b[0m\u001b[0;34m(\u001b[0m\u001b[0;36m0\u001b[0m\u001b[0;34m,\u001b[0m\u001b[0;36m6\u001b[0m\u001b[0;34m,\u001b[0m\u001b[0;36m9\u001b[0m\u001b[0;34m)\u001b[0m\u001b[0;34m,\u001b[0m \u001b[0mskip_header\u001b[0m\u001b[0;34m=\u001b[0m\u001b[0;36m1\u001b[0m\u001b[0;34m)\u001b[0m\u001b[0;34m\u001b[0m\u001b[0m\n\u001b[0m\u001b[1;32m     10\u001b[0m \u001b[0;34m\u001b[0m\u001b[0m\n\u001b[1;32m     11\u001b[0m \u001b[0;31m# Pre-process CSV\u001b[0m\u001b[0;34m\u001b[0m\u001b[0;34m\u001b[0m\u001b[0m\n",
      "\u001b[0;32m/usr/lib/python3.6/site-packages/numpy/lib/npyio.py\u001b[0m in \u001b[0;36mgenfromtxt\u001b[0;34m(fname, dtype, comments, delimiter, skip_header, skip_footer, converters, missing_values, filling_values, usecols, names, excludelist, deletechars, replace_space, autostrip, case_sensitive, defaultfmt, unpack, usemask, loose, invalid_raise, max_rows)\u001b[0m\n\u001b[1;32m   1451\u001b[0m                 \u001b[0mfhd\u001b[0m \u001b[0;34m=\u001b[0m \u001b[0miter\u001b[0m\u001b[0;34m(\u001b[0m\u001b[0mnp\u001b[0m\u001b[0;34m.\u001b[0m\u001b[0mlib\u001b[0m\u001b[0;34m.\u001b[0m\u001b[0m_datasource\u001b[0m\u001b[0;34m.\u001b[0m\u001b[0mopen\u001b[0m\u001b[0;34m(\u001b[0m\u001b[0mfname\u001b[0m\u001b[0;34m,\u001b[0m \u001b[0;34m'rbU'\u001b[0m\u001b[0;34m)\u001b[0m\u001b[0;34m)\u001b[0m\u001b[0;34m\u001b[0m\u001b[0m\n\u001b[1;32m   1452\u001b[0m             \u001b[0;32melse\u001b[0m\u001b[0;34m:\u001b[0m\u001b[0;34m\u001b[0m\u001b[0m\n\u001b[0;32m-> 1453\u001b[0;31m                 \u001b[0mfhd\u001b[0m \u001b[0;34m=\u001b[0m \u001b[0miter\u001b[0m\u001b[0;34m(\u001b[0m\u001b[0mnp\u001b[0m\u001b[0;34m.\u001b[0m\u001b[0mlib\u001b[0m\u001b[0;34m.\u001b[0m\u001b[0m_datasource\u001b[0m\u001b[0;34m.\u001b[0m\u001b[0mopen\u001b[0m\u001b[0;34m(\u001b[0m\u001b[0mfname\u001b[0m\u001b[0;34m,\u001b[0m \u001b[0;34m'rb'\u001b[0m\u001b[0;34m)\u001b[0m\u001b[0;34m)\u001b[0m\u001b[0;34m\u001b[0m\u001b[0m\n\u001b[0m\u001b[1;32m   1454\u001b[0m             \u001b[0mown_fhd\u001b[0m \u001b[0;34m=\u001b[0m \u001b[0;32mTrue\u001b[0m\u001b[0;34m\u001b[0m\u001b[0m\n\u001b[1;32m   1455\u001b[0m         \u001b[0;32melse\u001b[0m\u001b[0;34m:\u001b[0m\u001b[0;34m\u001b[0m\u001b[0m\n",
      "\u001b[0;32m/usr/lib/python3.6/site-packages/numpy/lib/_datasource.py\u001b[0m in \u001b[0;36mopen\u001b[0;34m(path, mode, destpath)\u001b[0m\n\u001b[1;32m    149\u001b[0m \u001b[0;34m\u001b[0m\u001b[0m\n\u001b[1;32m    150\u001b[0m     \u001b[0mds\u001b[0m \u001b[0;34m=\u001b[0m \u001b[0mDataSource\u001b[0m\u001b[0;34m(\u001b[0m\u001b[0mdestpath\u001b[0m\u001b[0;34m)\u001b[0m\u001b[0;34m\u001b[0m\u001b[0m\n\u001b[0;32m--> 151\u001b[0;31m     \u001b[0;32mreturn\u001b[0m \u001b[0mds\u001b[0m\u001b[0;34m.\u001b[0m\u001b[0mopen\u001b[0m\u001b[0;34m(\u001b[0m\u001b[0mpath\u001b[0m\u001b[0;34m,\u001b[0m \u001b[0mmode\u001b[0m\u001b[0;34m)\u001b[0m\u001b[0;34m\u001b[0m\u001b[0m\n\u001b[0m\u001b[1;32m    152\u001b[0m \u001b[0;34m\u001b[0m\u001b[0m\n\u001b[1;32m    153\u001b[0m \u001b[0;34m\u001b[0m\u001b[0m\n",
      "\u001b[0;32m/usr/lib/python3.6/site-packages/numpy/lib/_datasource.py\u001b[0m in \u001b[0;36mopen\u001b[0;34m(self, path, mode)\u001b[0m\n\u001b[1;32m    499\u001b[0m             \u001b[0;32mreturn\u001b[0m \u001b[0m_file_openers\u001b[0m\u001b[0;34m[\u001b[0m\u001b[0mext\u001b[0m\u001b[0;34m]\u001b[0m\u001b[0;34m(\u001b[0m\u001b[0mfound\u001b[0m\u001b[0;34m,\u001b[0m \u001b[0mmode\u001b[0m\u001b[0;34m=\u001b[0m\u001b[0mmode\u001b[0m\u001b[0;34m)\u001b[0m\u001b[0;34m\u001b[0m\u001b[0m\n\u001b[1;32m    500\u001b[0m         \u001b[0;32melse\u001b[0m\u001b[0;34m:\u001b[0m\u001b[0;34m\u001b[0m\u001b[0m\n\u001b[0;32m--> 501\u001b[0;31m             \u001b[0;32mraise\u001b[0m \u001b[0mIOError\u001b[0m\u001b[0;34m(\u001b[0m\u001b[0;34m\"%s not found.\"\u001b[0m \u001b[0;34m%\u001b[0m \u001b[0mpath\u001b[0m\u001b[0;34m)\u001b[0m\u001b[0;34m\u001b[0m\u001b[0m\n\u001b[0m\u001b[1;32m    502\u001b[0m \u001b[0;34m\u001b[0m\u001b[0m\n\u001b[1;32m    503\u001b[0m \u001b[0;34m\u001b[0m\u001b[0m\n",
      "\u001b[0;31mOSError\u001b[0m: ../data/monsters_data_pilot_041417.csv not found."
     ]
    }
   ],
   "source": [
    "def stringToInt(arr, position, values):\n",
    "    for i, v in enumerate(values):\n",
    "        arr[arr[:,position] == v, position] = i\n",
    "    return arr\n",
    "\n",
    "csvFile = '../data/monsters_data_pilot_041417.csv'\n",
    "\n",
    "# Only id(0), category(6), correct(9) \n",
    "csv = np.genfromtxt(csvFile, dtype=np.string_, delimiter=',', usecols=(0,6,9), skip_header=1)\n",
    "\n",
    "# Pre-process CSV\n",
    "# Get categories\n",
    "categories = [c for c in np.unique(csv[:,1])]\n",
    "# Get unique ids\n",
    "ids = [i for i in np.unique(csv[:,0]) ]\n",
    "# For converting string to int boolean\n",
    "bo = [b'False', b'True']\n",
    "\n",
    "csvInt = csv.copy()\n",
    "# Convert fields to ints for easy processing\n",
    "for i,j in enumerate([ids, categories, bo]):\n",
    "    csvInt = stringToInt(csvInt, i, j)\n",
    "csvInt = csvInt.astype('int')\n",
    "\n",
    "# Split by user\n",
    "splitCsv = [csvInt[csvInt[:,0]==i] for i in np.unique(csvInt[:,0])]"
   ]
  },
  {
   "cell_type": "code",
   "execution_count": null,
   "metadata": {
    "collapsed": true
   },
   "outputs": [],
   "source": [
    "users = 5\n",
    "tasks = 4"
   ]
  },
  {
   "cell_type": "code",
   "execution_count": null,
   "metadata": {
    "collapsed": true
   },
   "outputs": [],
   "source": [
    "%%html\n",
    "<style>\n",
    ".output_wrapper, .output {\n",
    "    height:auto !important;\n",
    "    max-height:5000px;  /* output max-height */\n",
    "}\n",
    ".output_scroll {\n",
    "    box-shadow:none !important;\n",
    "    webkit-box-shadow:none !important;\n",
    "}\n",
    "</style>"
   ]
  },
  {
   "cell_type": "code",
   "execution_count": null,
   "metadata": {
    "collapsed": true,
    "scrolled": true
   },
   "outputs": [],
   "source": [
    "# Global Variables (Error section)\n",
    "Window = 20\n",
    "Errors = []\n",
    "\n",
    "# Global variables (LP section)\n",
    "Lookback = 15\n",
    "LPU = []\n",
    "\n",
    "@interact(window=(1,100,1), lookback=(1,100,1))\n",
    "def plotError(window=Window, lookback=Lookback, plotAll=fixed(False)):\n",
    "    \n",
    "    # ===========================================================================================\n",
    "    # Error Part\n",
    "    if plotAll:\n",
    "        # Set up error subplots\n",
    "        fig = plt.figure(figsize=(15, 15))\n",
    "        ax, c = [], 0\n",
    "        for i in range(3):\n",
    "            for j in range(2):\n",
    "                ax.append(plt.subplot2grid((3, 2), (i, j)))\n",
    "                c+=1\n",
    "                if c == users:\n",
    "                    break\n",
    "        plt.subplots_adjust(wspace = 0.3, hspace = 0.3)\n",
    "\n",
    "    errors=[];\n",
    "    for u in range(users):\n",
    "        # With a list in case I want to store them like cumCounts, movAvg should be moved out of this loop though\n",
    "        # To be indexed by user too\n",
    "        movAvg=[];\n",
    "        # Plot error moving average per task for this user u only\n",
    "        for t in range(tasks):\n",
    "            # e = 1-accuracy (where accuracy)\n",
    "            movAvg.append(1-pd.rolling_mean(splitCsv[u][splitCsv[u][:,1]==t, 2], window)[window-1:]);\n",
    "            if plotAll:\n",
    "                ax[u].plot(movAvg[t], label=categories[t])\n",
    "        errors.append(movAvg);\n",
    "        if plotAll:\n",
    "            ax[u].legend()\n",
    "            ax[u].set_title(''.join(['Person ', str(u+1), ' | Error']))\n",
    "            ax[u].set_ylabel('Error')\n",
    "            ax[u].set_xlabel('Task (and window) dependent step ')\n",
    "    \n",
    "    if plotAll:\n",
    "        plt.tight_layout();\n",
    "        plt.show()\n",
    "    # Use a global vars so it can retrieve window size and error list to use it with error difference\n",
    "    global Window\n",
    "    Window = window\n",
    "    global Errors\n",
    "    Errors = errors\n",
    "    #return errors, window;\n",
    "    \n",
    "    # ===========================================================================================\n",
    "    # LP Part\n",
    "    def errorChange(arr, lookback=1, getInitDiff=True):\n",
    "        # Reverse it\n",
    "        arr = arr[::-1]\n",
    "        # LP = - [error(now) - error(past)]\n",
    "        # window: a look-back to consider the difference  diff[t] = a[t] - a[t-window]\n",
    "        lp = [-i+j for i, j in zip(arr[:-lookback], arr[lookback:])]\n",
    "        # if it's set to true then it will append the initial (noisy) differences that were left behind by the nature\n",
    "        # of having a rolling window. Thus it will calculate the differences (only one step) and append them\n",
    "        if getInitDiff:\n",
    "            lp += np.diff(arr[-lookback:]).tolist()\n",
    "        # Reverse it\n",
    "        lp = lp[::-1]\n",
    "        return lp\n",
    "\n",
    "    # Set up subplots for LP\n",
    "    if plotAll:\n",
    "        fig = plt.figure(figsize=(15, 15))\n",
    "        ax, c = [], 0\n",
    "        for i in range(3):\n",
    "            for j in range(2):\n",
    "                ax.append(plt.subplot2grid((3, 2), (i, j)))\n",
    "                c+=1\n",
    "                if c == users:\n",
    "                    break\n",
    "        plt.subplots_adjust(wspace = 0.3, hspace = 0.3)\n",
    "\n",
    "    # Store every task LP per user\n",
    "    lpU = []\n",
    "    for u in range(users):\n",
    "        # Stores LP per task for user u\n",
    "        lpT = []\n",
    "        for t in range(tasks):\n",
    "            lpT.append( errorChange(Errors[u][t], lookback, getInitDiff=False) )\n",
    "            if plotAll:\n",
    "                # If i make errorChange multidimensional\n",
    "                #ax[u].plot(lpT[u][t], label=categories[t])\n",
    "                ax[u].plot(lpT[t], label=categories[t])\n",
    "                # adjust so it start at 0 when getInitDiff=true\n",
    "                #ax[u].plot([x for x in range(lookback,lookback+len(lpT))], lpT)\n",
    "        # Store LP for all t for user u\n",
    "        lpU.append(lpT)\n",
    "        if plotAll:\n",
    "            ax[u].legend()\n",
    "            ax[u].set_title(''.join(['Person ', str(u+1), ' | Learning Progress']))\n",
    "            ax[u].set_ylabel('Error rate')\n",
    "            ax[u].set_xlabel('Task dependent step')\n",
    "\n",
    "            ax[u].axhline(y=0,xmin=0,xmax=10,c=\"black\",linewidth=0.5,zorder=0)\n",
    "    \n",
    "    if plotAll:\n",
    "        plt.tight_layout()\n",
    "        plt.show()\n",
    "    global LPU\n",
    "    LPU = lpU\n",
    "    \n",
    "    \n",
    "    # ===========================================================================================\n",
    "    # P(leave|LP) section\n",
    "    \n",
    "    # If detached then use global LPU\n",
    "    #lpU = LPU\n",
    "\n",
    "    categ = ['Category 1D', 'Category 2D', 'Category Ignore 1D', 'Category Random']\n",
    "    for t in range(tasks):\n",
    "        # One per user\n",
    "        color = ['r', 'b', 'k', 'g', 'y']\n",
    "\n",
    "        position = [0, 0.1, 0.2, 0.3, 0.4]\n",
    "        fig, axes = plt.subplots(figsize=(15,10));\n",
    "        plt.subplots_adjust(wspace=0.5, hspace=0.3);\n",
    "\n",
    "        for u in range(users):\n",
    "            # Now let's see if user continued with the previous task or switched\n",
    "\n",
    "            # Get unique LP values and counts\n",
    "            lp, counts = np.unique(lpU[u][t], return_counts=True)\n",
    "            lpCounts = np.asarray((lp, counts)).T\n",
    "\n",
    "            # Get the indices for task t\n",
    "            indT, = np.where(splitCsv[u][:,1] == t)\n",
    "\n",
    "            # Check if we even have LP measurements\n",
    "            if len(lpU[u][t]) > 0:\n",
    "                # Then get only those indices to which we have LP measurements\n",
    "                indTLP = indT[-len(lpU[u][t]):]\n",
    "\n",
    "                # Concatenate indices for this task with LP, LP and whether or not at this step user u \n",
    "                # continued with this same task\n",
    "                data = [[np.array(indTLP)], [np.array(lpU[u][t]).T], [np.in1d(indTLP+1, indTLP)*1]]\n",
    "                data = np.concatenate(data).T\n",
    "\n",
    "                # Discretize the space in 0.05 slices from -0.5 to 0.5\n",
    "                low, high, step = -0.5, 0.5, 0.05\n",
    "                # Create bins\n",
    "                bins = np.arange(low,high,step)\n",
    "                # Group data in their corresponding bin according to the LP\n",
    "                binplace = np.digitize(data[:,1], bins)\n",
    "\n",
    "                # Realign bins\n",
    "                bins = bins.tolist()\n",
    "                bins.insert(0, low-step)\n",
    "\n",
    "                # Now do some binning\n",
    "                stay = []\n",
    "                total = []\n",
    "                pLeave = []\n",
    "                for b in range(len(bins)):\n",
    "                    # Go through every bin and get the indices of those that are in the current bin\n",
    "                    newBins = np.where(binplace == b)\n",
    "                    # For every bin count the number of times user u continued in this task\n",
    "                    stay.append(np.sum(data[newBins,2]))\n",
    "                    total.append(np.size(newBins))\n",
    "                    # Get P(switch task|LP in this bin)\n",
    "                    pLeave.append(1-(stay[-1]/total[-1]))\n",
    "                    \n",
    "            else:\n",
    "                low, high, step = -0.5, 0.5, 0.05\n",
    "                pLeave = [0]*len(np.arange(low,high,step))\n",
    "\n",
    "            # Plot\n",
    "            freq = pd.Series.from_array(pLeave)\n",
    "            # format x labels\n",
    "            x_labels = [\"%.2f\" % b for b in bins]\n",
    "            ax = freq.plot(kind='bar', color=color[u], alpha=0.5, subplots=True, legend=True, \n",
    "                           sharex=False, sharey=False, label=''.join(['Subject ', str(u+1)]), position=position[u]);\n",
    "\n",
    "            axes.set_xlabel(\"LP\")\n",
    "            axes.set_ylabel(\"P(Switch task|LP)\")\n",
    "            axes.set_xticklabels(x_labels);\n",
    "            axes.set_title(''.join(['Task ', str(t+1), ' | ', categ[t]]));\n",
    "            axes.set_ylim([0,1])\n",
    "            \n",
    "        plt.tight_layout();\n",
    "        plt.show()"
   ]
  },
  {
   "cell_type": "code",
   "execution_count": null,
   "metadata": {
    "collapsed": true
   },
   "outputs": [],
   "source": []
  }
 ],
 "metadata": {
  "kernelspec": {
   "display_name": "Python 3",
   "language": "python",
   "name": "python3"
  },
  "language_info": {
   "codemirror_mode": {
    "name": "ipython",
    "version": 3
   },
   "file_extension": ".py",
   "mimetype": "text/x-python",
   "name": "python",
   "nbconvert_exporter": "python",
   "pygments_lexer": "ipython3",
   "version": "3.6.1"
  },
  "widgets": {
   "application/vnd.jupyter.widget-state+json": {
    "state": {
     "07de5ad6633f4ef78270038bae4c1c0b": {
      "model_module": "jupyter-js-widgets",
      "model_module_version": "~2.1.4",
      "model_name": "SliderStyleModel",
      "state": {
       "_model_module_version": "~2.1.4",
       "_view_module_version": "~2.1.4"
      }
     },
     "3df42dd3c14a42e996398a4030d2bf97": {
      "model_module": "jupyter-js-widgets",
      "model_module_version": "~2.1.4",
      "model_name": "OutputModel",
      "state": {
       "_dom_classes": [],
       "_model_module": "jupyter-js-widgets",
       "_model_module_version": "~2.1.4",
       "_view_module": "jupyter-js-widgets",
       "_view_module_version": "~2.1.4",
       "layout": "IPY_MODEL_f07ed7f92bdb4ad7b12fb6ae9128b4d7",
       "msg_throttle": 1
      }
     },
     "5014e808670c4ebc9a2e3c1cf1cb356d": {
      "model_module": "jupyter-js-widgets",
      "model_module_version": "~2.1.4",
      "model_name": "IntSliderModel",
      "state": {
       "_model_module_version": "~2.1.4",
       "_view_module_version": "~2.1.4",
       "description": "lookback",
       "layout": "IPY_MODEL_7b88f3c1facb4c428c02c1dc13cfdc20",
       "min": 1,
       "style": "IPY_MODEL_5cc0a9e9db7345aab2bedf2e89ec9973",
       "value": 15
      }
     },
     "5cc0a9e9db7345aab2bedf2e89ec9973": {
      "model_module": "jupyter-js-widgets",
      "model_module_version": "~2.1.4",
      "model_name": "SliderStyleModel",
      "state": {
       "_model_module_version": "~2.1.4",
       "_view_module_version": "~2.1.4"
      }
     },
     "7b88f3c1facb4c428c02c1dc13cfdc20": {
      "model_module": "jupyter-js-widgets",
      "model_module_version": "~2.1.4",
      "model_name": "LayoutModel",
      "state": {
       "_model_module_version": "~2.1.4",
       "_view_module_version": "~2.1.4"
      }
     },
     "93b524fab7fc472bb0f536700f56bcc7": {
      "model_module": "jupyter-js-widgets",
      "model_module_version": "~2.1.4",
      "model_name": "IntSliderModel",
      "state": {
       "_model_module_version": "~2.1.4",
       "_view_module_version": "~2.1.4",
       "description": "window",
       "layout": "IPY_MODEL_af96a133a6b8408f801f7d312eca85fe",
       "min": 1,
       "style": "IPY_MODEL_07de5ad6633f4ef78270038bae4c1c0b",
       "value": 20
      }
     },
     "af96a133a6b8408f801f7d312eca85fe": {
      "model_module": "jupyter-js-widgets",
      "model_module_version": "~2.1.4",
      "model_name": "LayoutModel",
      "state": {
       "_model_module_version": "~2.1.4",
       "_view_module_version": "~2.1.4"
      }
     },
     "ecd11e3f339c49c6820beb0fd53f1a5a": {
      "model_module": "jupyter-js-widgets",
      "model_module_version": "~2.1.4",
      "model_name": "LayoutModel",
      "state": {
       "_model_module_version": "~2.1.4",
       "_view_module_version": "~2.1.4"
      }
     },
     "efbc59764fbe4d70ab3d8613260eccca": {
      "model_module": "jupyter-js-widgets",
      "model_module_version": "~2.1.4",
      "model_name": "VBoxModel",
      "state": {
       "_dom_classes": [
        "widget-interact"
       ],
       "_model_module_version": "~2.1.4",
       "_view_module_version": "~2.1.4",
       "children": [
        "IPY_MODEL_93b524fab7fc472bb0f536700f56bcc7",
        "IPY_MODEL_5014e808670c4ebc9a2e3c1cf1cb356d",
        "IPY_MODEL_3df42dd3c14a42e996398a4030d2bf97"
       ],
       "layout": "IPY_MODEL_ecd11e3f339c49c6820beb0fd53f1a5a"
      }
     },
     "f07ed7f92bdb4ad7b12fb6ae9128b4d7": {
      "model_module": "jupyter-js-widgets",
      "model_module_version": "~2.1.4",
      "model_name": "LayoutModel",
      "state": {
       "_model_module_version": "~2.1.4",
       "_view_module_version": "~2.1.4"
      }
     }
    },
    "version_major": 1,
    "version_minor": 0
   }
  }
 },
 "nbformat": 4,
 "nbformat_minor": 2
}
