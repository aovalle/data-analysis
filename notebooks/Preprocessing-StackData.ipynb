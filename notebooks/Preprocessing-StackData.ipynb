{
 "cells": [
  {
   "cell_type": "markdown",
   "metadata": {},
   "source": [
    "# Stack self reported answers and metrics\n",
    "\n",
    "These matrices contain the performance and selection statistics gathered from the experimental observations and stack them with the self-reported answers. Since there are four tasks, for each subject there are four row vectors that contain their respective data:\n",
    "\n",
    "* 0 - User Id\n",
    "* 1 - Category/Task complexity\n",
    "* 2 - Number of times this task was selected\n",
    "* 3 - % this task was selected\n",
    "* 4 - Number of times correct on this task\n",
    "* 5 - % corect on this task\n",
    "* 6-11 - Self reported answers for this task"
   ]
  },
  {
   "cell_type": "code",
   "execution_count": 1,
   "metadata": {},
   "outputs": [
    {
     "name": "stderr",
     "output_type": "stream",
     "text": [
      "/usr/lib/python3.6/site-packages/IPython/html.py:14: ShimWarning: The `IPython.html` package has been deprecated since IPython 4.0. You should import from `notebook` instead. `IPython.html.widgets` has moved to `ipywidgets`.\n",
      "  \"`IPython.html.widgets` has moved to `ipywidgets`.\", ShimWarning)\n"
     ]
    }
   ],
   "source": [
    "%matplotlib inline\n",
    "import numpy as np\n",
    "import matplotlib.pyplot as plt\n",
    "import matplotlib.cm as cm\n",
    "from matplotlib import rcParams\n",
    "import pandas as pd\n",
    "import warnings\n",
    "\n",
    "from scipy.stats import beta\n",
    "\n",
    "from ipywidgets import widgets\n",
    "from IPython.html.widgets import *\n",
    "\n",
    "warnings.filterwarnings('ignore')\n",
    "rcParams.update({'font.size': 15})\n",
    "#plt.style.use('ggplot')\n",
    "#plt.style.use('seaborn-dark-palette')\n",
    "plt.style.use('fivethirtyeight')\n",
    "\n",
    "float_formatter = lambda x: \"%.2f\" % x\n",
    "np.set_printoptions(formatter={'float_kind':float_formatter})\n",
    "np.set_printoptions(precision=2)"
   ]
  },
  {
   "cell_type": "code",
   "execution_count": null,
   "metadata": {
    "collapsed": true
   },
   "outputs": [],
   "source": [
    "def stringToInt(arr, position, values):\n",
    "    for i, v in enumerate(values):\n",
    "        arr[arr[:,position] == v, position] = i\n",
    "    return arr"
   ]
  },
  {
   "cell_type": "markdown",
   "metadata": {},
   "source": [
    "## Free Exploration Only"
   ]
  },
  {
   "cell_type": "code",
   "execution_count": null,
   "metadata": {
    "collapsed": true
   },
   "outputs": [],
   "source": [
    "# Load free exploration\n",
    "#user(0), cat-task complexity(1), # task selec(2), % sele(3), # correct on task(4), % correct(5), answers(7:12)\n",
    "free = np.loadtxt('free-free.txt')\n",
    "print('Free Exploration - general metrics loaded')"
   ]
  },
  {
   "cell_type": "markdown",
   "metadata": {},
   "source": [
    "## Free Exploration with Training\n",
    "\n",
    "Loads the training and the free exploration part separately, but also they are stacked together to form a unique matrix."
   ]
  },
  {
   "cell_type": "code",
   "execution_count": null,
   "metadata": {
    "collapsed": true
   },
   "outputs": [],
   "source": [
    "# Load free exploration with training\n",
    "#user(0), cat-task complexity(1), # task selec(2), % sele(3), # correct on task(4), % correct(5), answers(6:11)\n",
    "freeTTr = np.loadtxt('freeTrain-train.txt') \n",
    "freeTFr = np.loadtxt('freeTrain-free.txt')\n",
    "\n",
    "# Integrate all significant metrics\n",
    "# to make things easier take free exploration data and subjective answers first, then stack performance from \n",
    "# the other two phases\n",
    "\n",
    "# Just for verification purposes\n",
    "if freeTFr.shape[0] == freeTTr.shape[0]:\n",
    "    freeT = np.hstack((freeTFr, freeTTr[:,7:], freeTTr[:,5:7]))\n",
    "    print('Free Exploration with Training - general metrics loaded')\n",
    "else:\n",
    "    print('columns do not match, someone did not select all tasks')"
   ]
  },
  {
   "cell_type": "markdown",
   "metadata": {},
   "source": [
    "## Strategic Learning Preprocessing\n",
    "\n",
    "Similarly the following code loads the matrices for each stage (Training, Free Exploration and Testing) separately and also all of them together."
   ]
  },
  {
   "cell_type": "code",
   "execution_count": null,
   "metadata": {
    "collapsed": true
   },
   "outputs": [],
   "source": [
    "# Load strategic learning\n",
    "#user(0), cat-task complexity(1), # task selec(2), % sele(3), # correct on task(4), % correct(5), answers(6:11)\n",
    "straTe = np.loadtxt('strategic-test.txt')\n",
    "straTr = np.loadtxt('strategic-train.txt')\n",
    "straFr = np.loadtxt('strategic-free.txt')\n",
    "\n",
    "# Integrate all significant metrics\n",
    "# to make things easier take free exploration data and subjective answers first, then stack performance from \n",
    "# the other two phases\n",
    "\n",
    "# Just for verification purposes\n",
    "if straFr.shape[0] == straTr.shape[0] and straFr.shape[0] == straTe.shape[0]:\n",
    "    #print(spilotFr[:,5:7], spilotTr[:,5:7], spilotTe[:,5:7])\n",
    "    stra = np.hstack((straFr, straTr[:,7:], straTr[:,5:7], straTe[:,5:7]))\n",
    "    print('Strategic Learning - general metrics loaded')\n",
    "else:\n",
    "    print('columns do not match, someone did not select all tasks')"
   ]
  }
 ],
 "metadata": {
  "kernelspec": {
   "display_name": "Python 3",
   "language": "python",
   "name": "python3"
  },
  "language_info": {
   "codemirror_mode": {
    "name": "ipython",
    "version": 3
   },
   "file_extension": ".py",
   "mimetype": "text/x-python",
   "name": "python",
   "nbconvert_exporter": "python",
   "pygments_lexer": "ipython3",
   "version": "3.6.1"
  }
 },
 "nbformat": 4,
 "nbformat_minor": 2
}
